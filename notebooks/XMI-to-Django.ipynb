{
 "cells": [
  {
   "cell_type": "code",
   "execution_count": null,
   "metadata": {
    "collapsed": false
   },
   "outputs": [],
   "source": [
    "from util import get_spec, DotDict, get_generalization, camel_to_snake, snake_to_camel\n",
    "from os import path, remove\n",
    "from textwrap import wrap, indent\n",
    "from networkx import DiGraph, topological_sort, simple_cycles\n",
    "from re import compile as re_compile\n",
    "\n",
    "BASE_DIR = filename = '../django-xmi/models/'\n",
    "FIELD_MAPPINGS = dict(boolean=dict(name='BooleanField', attrs=[]),\n",
    "                      string=dict(name='CharField', attrs=['max_length=255']))\n",
    "\n",
    "RESERVED_TERMS = __builtin__.__dir__() + ['False', 'class', 'finally', 'is', 'return', 'None', 'continue',\n",
    "                                          'for', 'lambda', 'try', 'True', 'def', 'from', 'nonlocal', 'while',\n",
    "                                          'and', 'del', 'global', 'not', 'with', 'as', 'elif', 'if', 'or',\n",
    "                                          'yield', 'assert', 'else', 'import', 'pass', 'break', 'except',\n",
    "                                          'in', 'raise']\n",
    "RESERVED_TERMS = tuple(term for term in RESERVED_TERMS if '_' != term[0])\n",
    "INDENT = ' ' * 4"
   ]
  },
  {
   "cell_type": "code",
   "execution_count": null,
   "metadata": {
    "collapsed": false
   },
   "outputs": [],
   "source": [
    "uml = get_spec('http://www.omg.org/spec/UML/20131001/UML.xmi')"
   ]
  },
  {
   "cell_type": "code",
   "execution_count": null,
   "metadata": {
    "collapsed": false
   },
   "outputs": [],
   "source": [
    "sysml = get_spec('http://www.omg.org/spec/SysML/20150709/SysML.xmi')"
   ]
  },
  {
   "cell_type": "markdown",
   "metadata": {},
   "source": [
    "# Parse elements into a `DotDict`"
   ]
  },
  {
   "cell_type": "code",
   "execution_count": null,
   "metadata": {
    "collapsed": false
   },
   "outputs": [],
   "source": [
    "elements = DotDict({})\n",
    "profiles = {'UML': uml.XMI.Package.packagedElement,\n",
    "            'SysML': sysml.XMI.Profile.packagedElement}\n",
    "ignore = re_compile('^[aeAE]_')\n",
    "ascii_fix = re_compile(r'[^\\x00-\\x7F]+')\n",
    "\n",
    "for profile_name, profile in profiles.items():\n",
    "    for package_name, package in profile.items():\n",
    "        for elem_name, element in package.packagedElement.items():\n",
    "            element.update({'__package__': package_name,\n",
    "                            '__profile__': profile_name,\n",
    "                            '__ignore__': bool(ignore.match(elem_name)),\n",
    "                            '__modelclass__': get_generalization(element) or 'models.Model',\n",
    "                            '__docstring__': element.get('ownedComment', {}).get('body', ''),\n",
    "                            '__is_abstract__': element.get('isAbstract', False)})\n",
    "            element.__docstring__ = ascii_fix.sub(\"'\", element.__docstring__)\n",
    "            for attr_name in element.get('ownedAttribute', {}).keys():\n",
    "                attr = element['ownedAttribute'][attr_name]\n",
    "                if 'ownedComment' in attr:\n",
    "                    attr['help_text'] = ascii_fix.sub(\"'\", attr['ownedComment'].get('body', ''))\n",
    "            elements[camel_to_snake(element.name)] = element"
   ]
  },
  {
   "cell_type": "code",
   "execution_count": null,
   "metadata": {
    "collapsed": false
   },
   "outputs": [],
   "source": [
    "dependency_graph = DiGraph()\n",
    "BASE_TYPES = ('element',)\n",
    "\n",
    "for elem_name, element in elements.items():\n",
    "    if element.__ignore__:\n",
    "        continue\n",
    "\n",
    "    if elem_name in BASE_TYPES:\n",
    "        element.__modelclass__ = 'models.Model'\n",
    "\n",
    "    if ',' in element.__modelclass__:\n",
    "        for dependency in element.__modelclass__.split(', '):\n",
    "            dependency_graph.add_edge(elem_name, camel_to_snake(dependency))\n",
    "    else:\n",
    "        dependency_graph.add_edge(elem_name, camel_to_snake(element.__modelclass__))\n",
    "\n",
    "sorted_elements = list(topological_sort(dependency_graph))[:-1]\n",
    "sorted_elements.reverse()"
   ]
  },
  {
   "cell_type": "markdown",
   "metadata": {},
   "source": [
    "# Declare Helper Functions"
   ]
  },
  {
   "cell_type": "code",
   "execution_count": null,
   "metadata": {
    "collapsed": true
   },
   "outputs": [],
   "source": [
    "def write_literals(literals, file, element_name):\n",
    "    choices = []\n",
    "    i = -1\n",
    "    use_descriptions = all('ownedComment' in lit for lit in literals.values())\n",
    "    for term, literal in literals.items():\n",
    "        i += 1\n",
    "        value = literal.ownedComment.body if use_descriptions else term\n",
    "        code = \"'{}'\".format(term.lower()) if use_descriptions else i\n",
    "        \n",
    "        file.write(INDENT + '{constant} = {code}\\n'.format(constant=term.upper(), code=code))\n",
    "        choices.append(\"({code}, '{value}'),\\n\".format(code=term.upper(), value=value))\n",
    "    \n",
    "    if i >= 0:\n",
    "        field = 'CharField(max_length=255, ' if use_descriptions else 'IntegerField('\n",
    "        file.write(INDENT + 'CHOICES = (\\n')\n",
    "        file.write(INDENT*2 + (INDENT*2).join(choices))\n",
    "        file.write(INDENT + ')\\n\\n')\n",
    "\n",
    "        field_str = INDENT + '{element_name} = models.{field}choices=CHOICES, default={default})\\n'\n",
    "        file.write(field_str.format(element_name=element_name,\n",
    "                                      field=field,\n",
    "                                      default=term.upper()))\n",
    "        return True\n",
    "    else:\n",
    "        return False"
   ]
  },
  {
   "cell_type": "code",
   "execution_count": null,
   "metadata": {
    "collapsed": true
   },
   "outputs": [],
   "source": [
    "def write_attributes(attributes, file):\n",
    "    \"\"\"Write the ownedAttributes to the Django models file.\"\"\"\n",
    "    \n",
    "    # TODO: this should probably be somewhere else\n",
    "    if all(subattr in attributes for subattr in ('id', 'name', 'type')):\n",
    "        element['ownedAttribute'] = DotDict({})\n",
    "        element['ownedAttribute'][attributes.name] = DotDict(attributes)\n",
    "        attributes = element.get('ownedAttribute', {})\n",
    "        \n",
    "    found_attributes = False\n",
    "    redefined = {}\n",
    "    \n",
    "    \"\"\"def __init__(self, *args, **kwargs):\n",
    "    if 'value' not in kwargs:\n",
    "        kwargs['value'] = 9\n",
    "    super(Bar, self).__init__(*args, **kwargs)\n",
    "    \"\"\"\n",
    "    for attr_name in sorted(attributes.keys()):\n",
    "        \n",
    "        attr = attributes[attr_name]\n",
    "        attr_name = camel_to_snake(attr_name)\n",
    "        if attr_name in RESERVED_TERMS:\n",
    "            attr_name += '_'  # as per PEP-8's recommendation\n",
    "        attr.name = attr_name\n",
    "        \n",
    "        # If the model is redefining an attribute in a superclass,\n",
    "        # we need to handle it differently due to Django's limitations\n",
    "        if 'redefinedProperty' in attr:\n",
    "            redefined[attr.name] = attr\n",
    "            continue\n",
    "\n",
    "        subattrs = []\n",
    "\n",
    "        if isinstance(attr.type, str):\n",
    "            attr.__field__ = 'ForeignKey'\n",
    "            attr.__other__ = attr.type\n",
    "        elif isinstance(attr.type, dict):\n",
    "            if 'idref' in attr.type:\n",
    "                attr.__field__ = 'ForeignKey'\n",
    "                attr.__other__ = attr.type['idref'].split('_')[-1]\n",
    "            elif 'href' in attr.type:\n",
    "                href = attr.type['href'].split('#')[-1].lower()\n",
    "                if href in FIELD_MAPPINGS:\n",
    "                    attr.__field__ = FIELD_MAPPINGS[href]['name']\n",
    "                    subattrs += FIELD_MAPPINGS[href]['attrs']\n",
    "                else:\n",
    "                    attr.__field__ = 'ForeignKey'\n",
    "                    attr.__other__ = attr.type['href'].split('#')[-1]\n",
    "\n",
    "        if attr.get('__other__', None):\n",
    "            if attr.__other__ == element.name:\n",
    "                attr.__other__ = 'self'\n",
    "            subattrs.append(\"'{}'\".format(attr.__other__))\n",
    "\n",
    "        help_text = attr.get('help_text', None)\n",
    "        if help_text:\n",
    "            quotation = '\"\"\"' if '\"' in help_text else '\"'\n",
    "            subattrs += ['help_text={}{}{}'.format(quotation, help_text, quotation)]\n",
    "\n",
    "        attr.__subattrs__ = ', '.join(subattrs)\n",
    "\n",
    "        file.write('    {name} = models.{__field__}({__subattrs__})\\n'.format(**attr))\n",
    "        \n",
    "        found_attributes = True\n",
    "        \n",
    "    if redefined:\n",
    "        file.write('\\n' + INDENT + 'def __init__(self, *args, **kwargs):\\n')\n",
    "        for name, redefine in redefined.items():\n",
    "            if 'defaultValue' in redefine and 'instance' in redefine.defaultValue:\n",
    "                default = redefine.defaultValue.instance.split('-')[-1]\n",
    "                file.write(INDENT * 2 + \"if '{}' not in kwargs:\\n\".format(name))\n",
    "                file.write(INDENT * 3 + \"kwargs['{}'] = '{}'\\n\".format(name, default))\n",
    "            else:\n",
    "                print(\"Could not redefine {}!\".format(name))\n",
    "                \n",
    "        file.write(INDENT * 2 + 'super({name}).__init__(*args, **kwargs)\\n'.format(**element))\n",
    "        \n",
    "\n",
    "    return found_attributes"
   ]
  },
  {
   "cell_type": "code",
   "execution_count": null,
   "metadata": {
    "collapsed": false
   },
   "outputs": [],
   "source": [
    "def write_operations(operations, file, element):\n",
    "    if not operations:\n",
    "        return False\n",
    "    \n",
    "    # TODO: this should probably be somewhere else\n",
    "    if all(subattr in operations for subattr in ('id', 'name', 'type')):\n",
    "        element['ownedOperation'] = DotDict({})\n",
    "        element['ownedOperation'][operations.name] = DotDict(operations)\n",
    "        operations = element.get('ownedOperation', {})\n",
    "    \n",
    "    for op in operations.values():\n",
    "        file.write('\\n')\n",
    "        \n",
    "        name = op.name\n",
    "        if name in element.get('ownedAttribute', {}):\n",
    "            name += '_operation'\n",
    "            \n",
    "        file.write(INDENT + 'def {}(self):\\n'.format(camel_to_snake(name)))\n",
    "        if 'ownedComment' in op:\n",
    "            file.write(INDENT * 2 + '\"\"\"\\n')\n",
    "            for line in [indent(s, ' ' * 4) for s in wrap('{}\\n'.format(op.ownedComment.body), 80)]:\n",
    "                file.write(INDENT + line + '\\n')\n",
    "            file.write(INDENT * 2 + '\"\"\"\\n')\n",
    "        ocl = op.get('ownedRule', {}).get('specification', {}).get('body', '')\n",
    "        if ocl:\n",
    "            file.write(INDENT * 2 + '# OCL:\\n')\n",
    "            if '\\n' in ocl:\n",
    "                ocl = ocl.replace('\\n\\n', '\\n').replace('\\n', '\\n' + INDENT * 3)\n",
    "                file.write(INDENT * 2 + '\"\"\"    {}\"\"\"\\n'.format(ocl))\n",
    "            else:\n",
    "                file.write(INDENT * 2 + '#     {}\\n'.format(ocl))\n",
    "        file.write(INDENT * 2 + 'pass\\n')\n",
    "        return True"
   ]
  },
  {
   "cell_type": "code",
   "execution_count": null,
   "metadata": {
    "collapsed": true
   },
   "outputs": [],
   "source": [
    "def write_meta(element, file):\n",
    "    found_meta = False\n",
    "    if element.__is_abstract__:\n",
    "        file.write('\\n' + INDENT + 'class Meta:\\n' + INDENT * 2 + 'abstract = True\\n')\n",
    "        found_meta = True\n",
    "    return found_meta"
   ]
  },
  {
   "cell_type": "markdown",
   "metadata": {},
   "source": [
    "# Write Django models to files"
   ]
  },
  {
   "cell_type": "code",
   "execution_count": null,
   "metadata": {
    "collapsed": false,
    "scrolled": false
   },
   "outputs": [],
   "source": [
    "loaded = []\n",
    "for profile in ('uml', 'sysml'):\n",
    "    filename = path.join(BASE_DIR, \"{}.py\".format(profile))\n",
    "    if path.exists(filename):\n",
    "        remove(filename)\n",
    "    with open(filename, 'w') as file:\n",
    "        file.write('from django.db import models\\n')\n",
    "        for other in loaded:\n",
    "            file.write('from .{} import *\\n'.format(other))\n",
    "    loaded.append(profile)\n",
    "        \n",
    "for element_name in sorted_elements:\n",
    "    if element_name not in elements:\n",
    "        print('could not find \"{}\"'.format(element_name))\n",
    "        continue\n",
    "    element = elements[element_name]\n",
    "    \n",
    "    filename = path.join(BASE_DIR, \"{}.py\".format(element.__profile__))\n",
    "    \n",
    "    with open(filename, 'a') as file:\n",
    "        file.write('\\n\\n')\n",
    "        file.write('class {name}({__modelclass__}):\\n'.format(**element))\n",
    "        if element.__docstring__:\n",
    "            file.write(INDENT + '\"\"\"\\n')\n",
    "            for line in [indent(s, ' ' * 4) for s in wrap('{__docstring__}\\n'.format(**element), 80)]:\n",
    "                file.write(line + '\\n')\n",
    "            file.write(INDENT + '\"\"\"\\n')\n",
    "        file.write('\\n')\n",
    "            \n",
    "        found_literals = write_attributes(element.get('ownedAttribute', {}), file)\n",
    "        found_attributes = write_literals(element.get('ownedLiteral', {}), file, element_name)\n",
    "        found_meta = write_meta(element, file)\n",
    "        found_operations = write_operations(element.get('ownedOperation', {}), file, element)\n",
    "        \n",
    "        if not any((found_literals,\n",
    "                    found_attributes,\n",
    "                    found_operations,\n",
    "                    found_meta)):\n",
    "            file.write(INDENT + 'pass\\n')"
   ]
  },
  {
   "cell_type": "markdown",
   "metadata": {},
   "source": [
    "# Sandbox"
   ]
  },
  {
   "cell_type": "code",
   "execution_count": null,
   "metadata": {
    "collapsed": false
   },
   "outputs": [],
   "source": [
    "elements.packageable_element.ownedAttribute.visibility.redefinedProperty"
   ]
  },
  {
   "cell_type": "code",
   "execution_count": null,
   "metadata": {
    "collapsed": false
   },
   "outputs": [],
   "source": [
    "elements.named_element.ownedAttribute.visibility"
   ]
  },
  {
   "cell_type": "code",
   "execution_count": null,
   "metadata": {
    "collapsed": false
   },
   "outputs": [],
   "source": [
    "vis = elements.packageable_element.ownedAttribute.get('visibility')"
   ]
  },
  {
   "cell_type": "code",
   "execution_count": null,
   "metadata": {
    "collapsed": false
   },
   "outputs": [],
   "source": [
    "vis.defaultValue"
   ]
  },
  {
   "cell_type": "code",
   "execution_count": null,
   "metadata": {
    "collapsed": false
   },
   "outputs": [],
   "source": [
    "elements.visibility_kind.name"
   ]
  },
  {
   "cell_type": "code",
   "execution_count": null,
   "metadata": {
    "collapsed": false
   },
   "outputs": [],
   "source": [
    "owned = set()\n",
    "for elem in elements.values():\n",
    "    owned = owned.union(set([key for key in elem.keys() if 'owned' in key.lower()]))\n",
    "{k: k.replace('owned', '').lower() + 's' for k in owned if k[:5] == 'owned'}"
   ]
  },
  {
   "cell_type": "code",
   "execution_count": null,
   "metadata": {
    "collapsed": false
   },
   "outputs": [],
   "source": [
    "{k for k,v in elements.items() if 'ownedRule' in v.keys()}"
   ]
  },
  {
   "cell_type": "code",
   "execution_count": null,
   "metadata": {
    "collapsed": false
   },
   "outputs": [],
   "source": [
    "elements.element.ownedOperation.allOwnedElements.ownedParameter.lowerValue"
   ]
  },
  {
   "cell_type": "code",
   "execution_count": null,
   "metadata": {
    "collapsed": false
   },
   "outputs": [],
   "source": [
    "elements.visibility_kind.ownedLiteral.package.ownedComment.body"
   ]
  },
  {
   "cell_type": "code",
   "execution_count": null,
   "metadata": {
    "collapsed": false
   },
   "outputs": [],
   "source": [
    "keys = set()\n",
    "for elem in elements.values():\n",
    "    keys = keys.union(set(elem.keys()))\n",
    "keys"
   ]
  },
  {
   "cell_type": "code",
   "execution_count": null,
   "metadata": {
    "collapsed": true
   },
   "outputs": [],
   "source": []
  }
 ],
 "metadata": {
  "hide_input": false,
  "kernelspec": {
   "display_name": "Python 3",
   "language": "python",
   "name": "python3"
  },
  "language_info": {
   "codemirror_mode": {
    "name": "ipython",
    "version": 3
   },
   "file_extension": ".py",
   "mimetype": "text/x-python",
   "name": "python",
   "nbconvert_exporter": "python",
   "pygments_lexer": "ipython3",
   "version": "3.5.1"
  },
  "widgets": {
   "state": {},
   "version": "1.1.2"
  }
 },
 "nbformat": 4,
 "nbformat_minor": 0
}
