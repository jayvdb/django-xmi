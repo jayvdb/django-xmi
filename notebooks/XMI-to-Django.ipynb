{
 "cells": [
  {
   "cell_type": "code",
   "execution_count": 67,
   "metadata": {
    "collapsed": false
   },
   "outputs": [
    {
     "data": {
      "text/plain": [
       "False"
      ]
     },
     "execution_count": 67,
     "metadata": {},
     "output_type": "execute_result"
    }
   ],
   "source": [
    "'NamedElement.namespace' in accessors"
   ]
  },
  {
   "cell_type": "code",
   "execution_count": 57,
   "metadata": {
    "collapsed": false
   },
   "outputs": [],
   "source": [
    "from util import parse_xmi, DotDict, get_generalization, camel_to_snake, snake_to_camel\n",
    "from os import path, remove\n",
    "from textwrap import wrap, indent\n",
    "from networkx import DiGraph, topological_sort, simple_cycles\n",
    "from re import compile as re_compile\n",
    "\n",
    "BASE_DIR = filename = '../django_xmi/models/'\n",
    "FIELD_MAPPINGS = dict(boolean=dict(name='BooleanField', attrs=[]),\n",
    "                      string=dict(name='CharField', attrs=['max_length=255']),\n",
    "                      real=dict(name='FloatField', attrs=[]),\n",
    "                      integer=dict(name='IntegerField', attrs=[]),\n",
    "                      # TODO: figure out better field for this\n",
    "                      unlimited_natural=dict(name='IntegerField', attrs=[]))\n",
    "\n",
    "RESERVED_TERMS = __builtin__.__dir__() + ['False', 'class', 'finally', 'is', 'return', 'None', 'continue',\n",
    "                                          'for', 'lambda', 'try', 'True', 'def', 'from', 'nonlocal', 'while',\n",
    "                                          'and', 'del', 'global', 'not', 'with', 'as', 'elif', 'if', 'or',\n",
    "                                          'yield', 'assert', 'else', 'import', 'pass', 'break', 'except',\n",
    "                                          'in', 'raise']\n",
    "RESERVED_TERMS = tuple(term for term in RESERVED_TERMS if '_' != term[0])\n",
    "INDENT = ' ' * 4\n",
    "TROUBLE_ACCESSORS = {'directed_relationship_property_path.source_context',\n",
    "                     'directed_relationship_property_path.source_property_path',\n",
    "                     'directed_relationship_property_path.target_context',\n",
    "                     'directed_relationship_property_path.target_property_path',\n",
    "                     'element_group.member',\n",
    "                     'element_group.ordered_memeber',\n",
    "                     'named_element.namespace',\n",
    "                     'namespace.named_element',\n",
    "                     'participant_property.base_property',\n",
    "                     'participant_property.end',\n",
    "                     'requirement.derived',\n",
    "                     'requirement.derived_from',\n",
    "                     'requirement.master',\n",
    "                     'requirement.refined_by',\n",
    "                     'requirement.satisfied_by',\n",
    "                     'requirement.traced_to',\n",
    "                     'requirement.verified_by',\n",
    "                     'value_type.quantity_kind',\n",
    "                     'value_type.unit'}"
   ]
  },
  {
   "cell_type": "markdown",
   "metadata": {},
   "source": [
    "# Load XMI from OMG"
   ]
  },
  {
   "cell_type": "code",
   "execution_count": 2,
   "metadata": {
    "collapsed": false
   },
   "outputs": [],
   "source": [
    "uml = parse_xmi('http://www.omg.org/spec/UML/20131001/UML.xmi')"
   ]
  },
  {
   "cell_type": "code",
   "execution_count": 3,
   "metadata": {
    "collapsed": false
   },
   "outputs": [],
   "source": [
    "sysml = parse_xmi('http://www.omg.org/spec/SysML/20150709/SysML.xmi')"
   ]
  },
  {
   "cell_type": "markdown",
   "metadata": {},
   "source": [
    "# Parse elements into a `DotDict`"
   ]
  },
  {
   "cell_type": "code",
   "execution_count": 4,
   "metadata": {
    "collapsed": false
   },
   "outputs": [],
   "source": [
    "elements = DotDict({})\n",
    "profiles = {'UML': uml.Package.packagedElement,\n",
    "            'SysML': sysml.Profile.packagedElement}\n",
    "ignore = re_compile('^[aeAE]_')\n",
    "ascii_fix = re_compile(r'[^\\x00-\\x7F]+')\n",
    "\n",
    "for profile_name, profile in profiles.items():\n",
    "    for package_name, package in profile.items():\n",
    "        if 'deprecated' in package_name.lower():\n",
    "            continue\n",
    "        for elem_name, element in package.packagedElement.items():\n",
    "            element.update({'__package__': package_name,\n",
    "                            '__profile__': profile_name,\n",
    "                            '__ignore__': bool(ignore.match(elem_name)),\n",
    "                            '__modelclass__': get_generalization(element) or 'models.Model',\n",
    "                            '__docstring__': element.get('ownedComment', {}).get('body', ''),\n",
    "                            '__is_abstract__': element.get('isAbstract', False)})\n",
    "            element.__docstring__ = ascii_fix.sub(\"'\", element.__docstring__)\n",
    "            for attr_name in element.get('ownedAttribute', {}).keys():\n",
    "                attr = element['ownedAttribute'][attr_name]\n",
    "                if 'ownedComment' in attr:\n",
    "                    attr['help_text'] = ascii_fix.sub(\"'\", attr['ownedComment'].get('body', ''))\n",
    "            elements[camel_to_snake(element.name)] = element"
   ]
  },
  {
   "cell_type": "code",
   "execution_count": 5,
   "metadata": {
    "collapsed": false
   },
   "outputs": [],
   "source": [
    "dependency_graph = DiGraph()\n",
    "BASE_TYPES = ('element',)\n",
    "\n",
    "for elem_name, element in elements.items():\n",
    "    if element.__ignore__:\n",
    "        continue\n",
    "\n",
    "    if elem_name in BASE_TYPES:\n",
    "        element.__modelclass__ = 'models.Model'\n",
    "\n",
    "    if ',' in element.__modelclass__:\n",
    "        for dependency in element.__modelclass__.split(', '):\n",
    "            dependency_graph.add_edge(elem_name, camel_to_snake(dependency))\n",
    "    else:\n",
    "        dependency_graph.add_edge(elem_name, camel_to_snake(element.__modelclass__))\n",
    "\n",
    "sorted_elements = list(topological_sort(dependency_graph))[:-1]\n",
    "sorted_elements.reverse()"
   ]
  },
  {
   "cell_type": "markdown",
   "metadata": {},
   "source": [
    "# Declare Helper Functions"
   ]
  },
  {
   "cell_type": "code",
   "execution_count": 6,
   "metadata": {
    "collapsed": true
   },
   "outputs": [],
   "source": [
    "def make_name_safe(name):\n",
    "    name = camel_to_snake(name)\n",
    "    if name in RESERVED_TERMS:\n",
    "        # PEP-8's recommends adding an '_' after the name, but that is not allowed in Django\n",
    "        name = 'has_' + name\n",
    "    name = name.replace('__', '_')\n",
    "    return name"
   ]
  },
  {
   "cell_type": "code",
   "execution_count": 7,
   "metadata": {
    "collapsed": true
   },
   "outputs": [],
   "source": [
    "def write_class(element, file):\n",
    "    to_subclass = []\n",
    "    to_mapping = []\n",
    "    classes = tuple(kls.strip() for kls in element.__modelclass__.split(','))\n",
    "    if classes == ('models.Model',):\n",
    "        to_subclass = classes\n",
    "    else:\n",
    "        for class_ in classes:\n",
    "            # TODO: testing something, remove False, but it is working better this way, may have to remove abstract models...\n",
    "            if False and elements[camel_to_snake(class_)].get('isAbstract', False):\n",
    "                to_subclass += [class_]\n",
    "            else:\n",
    "                to_mapping += [class_]\n",
    "\n",
    "    file.write('class {}({}):\\n'.format(element.name, ', '.join(to_subclass or ['models.Model'])))\n",
    "    return to_mapping"
   ]
  },
  {
   "cell_type": "code",
   "execution_count": 8,
   "metadata": {
    "collapsed": true
   },
   "outputs": [],
   "source": [
    "def write_literals(literals, file, element_name):\n",
    "    choices = []\n",
    "    i = -1\n",
    "    use_descriptions = all('ownedComment' in lit for lit in literals.values())\n",
    "    for term, literal in literals.items():\n",
    "        i += 1\n",
    "        value = literal.ownedComment.body if use_descriptions else term\n",
    "        code = \"'{}'\".format(term.lower()) if use_descriptions else i\n",
    "        \n",
    "        file.write(INDENT + '{constant} = {code}\\n'.format(constant=term.upper(), code=code))\n",
    "        choice = \"({code}, '{value}'),\\n\".format(code=term.upper(), value=value)\n",
    "        \n",
    "        if len(choice) > 80:\n",
    "            ch_ind = ' ' * (10 + len(choice.split(',')[0])) \n",
    "            joint = \" ' +\\n\" + ch_ind + \"'\"\n",
    "            choice = joint.join(wrap(choice, 80)) + '\\n'\n",
    "        choices.append(choice)\n",
    "    \n",
    "    if i >= 0:\n",
    "        field = 'CharField(max_length=255, ' if use_descriptions else 'IntegerField('\n",
    "        file.write(INDENT + 'CHOICES = (\\n')\n",
    "        file.write(INDENT*2 + (INDENT*2).join(choices))\n",
    "        file.write(INDENT + ')\\n\\n')\n",
    "\n",
    "        field_str = INDENT + '{element_name} = models.{field}choices=CHOICES, default={default})\\n'\n",
    "        file.write(field_str.format(element_name=element_name,\n",
    "                                    field=field,\n",
    "                                    default=term.upper()))\n",
    "        return True\n",
    "    else:\n",
    "        return False"
   ]
  },
  {
   "cell_type": "code",
   "execution_count": 62,
   "metadata": {
    "collapsed": false
   },
   "outputs": [],
   "source": [
    "def write_attributes(attributes, file, element_name):\n",
    "    \"\"\"Write the ownedAttributes to the Django models file.\"\"\"\n",
    "    \n",
    "    # TODO: this should probably be somewhere else\n",
    "    if all(subattr in attributes for subattr in ('id', 'name', 'type')):\n",
    "        element['ownedAttribute'] = DotDict({})\n",
    "        element['ownedAttribute'][attributes.name] = DotDict(attributes)\n",
    "        attributes = element.get('ownedAttribute', {})\n",
    "        \n",
    "    found_attributes = False\n",
    "    redefined = {}\n",
    "    \n",
    "    \"\"\"def __init__(self, *args, **kwargs):\n",
    "    if 'value' not in kwargs:\n",
    "        kwargs['value'] = 9\n",
    "    super(Bar, self).__init__(*args, **kwargs)\n",
    "    \"\"\"\n",
    "    for attr_name in sorted(attributes.keys()):\n",
    "        \n",
    "        attr = attributes[attr_name]\n",
    "        attr_name = make_name_safe(attr_name)\n",
    "        attr.name = attr_name\n",
    "        \n",
    "        # If the model is redefining an attribute in a superclass,\n",
    "        # we need to handle it differently due to Django's limitations\n",
    "        if all(prop in attr for prop in ('redefinedProperty', 'defaultValue')):\n",
    "            redefined[attr.name] = attr\n",
    "            continue\n",
    "            \n",
    "        # Check accessor\n",
    "        accessor = element_name + '.' + attr_name\n",
    "        reverse_accessor = snake_to_camel(attr_name) + '.' + element_name\n",
    "        if reverse_accessor in accessors:\n",
    "            continue\n",
    "        else:\n",
    "            accessors.append(reverse_accessor)\n",
    "            \n",
    "        added_plus = '+' if accessor in TROUBLE_ACCESSORS else ''\n",
    "\n",
    "        subattrs = []\n",
    "\n",
    "        if isinstance(attr.type, str):\n",
    "            attr.__field__ = 'ForeignKey'\n",
    "            attr.__other__ = attr.type\n",
    "            subattrs += [\"related_name='%(app_label)s_%(class)s_{}{}'\".format(attr_name, added_plus)]\n",
    "        elif isinstance(attr.type, dict):\n",
    "            if 'idref' in attr.type:\n",
    "                attr.__field__ = 'ForeignKey'\n",
    "                attr.__other__ = attr.type['idref'].split('_')[-1]\n",
    "                subattrs += [\"related_name='%(app_label)s_%(class)s_{}{}'\".format(attr_name, added_plus)]\n",
    "            elif 'href' in attr.type:\n",
    "                href = camel_to_snake(attr.type['href'].split('#')[-1])\n",
    "                if href in FIELD_MAPPINGS:\n",
    "                    attr.__field__ = FIELD_MAPPINGS[href]['name']\n",
    "                    subattrs += FIELD_MAPPINGS[href]['attrs']\n",
    "                else:\n",
    "                    attr.__field__ = 'ForeignKey'\n",
    "                    attr.__other__ = attr.type['href'].split('#')[-1]\n",
    "                    subattrs += [\"related_name='%(app_label)s_%(class)s_{}{}'\".format(attr_name, added_plus)]\n",
    "\n",
    "        field_str = '    {name} = models.{__field__}'.format(**attr)\n",
    "        \n",
    "        if attr.get('__other__', None):\n",
    "            if attr.__other__ == element.name:\n",
    "                attr.__other__ = 'self'\n",
    "            subattrs = [\"'{}'\".format(attr.__other__)] + subattrs\n",
    "\n",
    "        help_text = attr.get('help_text', '')\n",
    "        if help_text:\n",
    "            help_text = help_text.replace(\"'\", '\"')\n",
    "            help_str = \"help_text='{}'\".format(help_text)\n",
    "            \n",
    "            # If the field declaration will be too long, wrap the help text\n",
    "            field_len = len(field_str)\n",
    "            if field_len + len(', '.join(subattrs)) + len(help_str) > 112:\n",
    "                help_ind = ' ' * (len(field_str) + 1)\n",
    "                joint = \" ' +\\n\" + help_ind + \"'\"\n",
    "                prepend = ('\\n' + help_ind) if subattrs else ''\n",
    "                help_str = prepend + joint.join(wrap(help_str, 112 - field_len))\n",
    "            \n",
    "            subattrs += [help_str]\n",
    "        \n",
    "        file.write(field_str + '({})\\n'.format(', '.join(subattrs)))\n",
    "        found_attributes = True\n",
    "        \n",
    "    if redefined:\n",
    "        to_write = []\n",
    "        \n",
    "        for name, redefine in redefined.items():\n",
    "            if 'defaultValue' in redefine and 'instance' in redefine.defaultValue:\n",
    "                default = redefine.defaultValue.instance.split('-')[-1]\n",
    "                to_write += [INDENT * 2 + \"if '{}' not in kwargs:\\n\".format(name)]\n",
    "                to_write += [INDENT * 3 + \"kwargs['{}'] = '{}'\\n\".format(name, default)]\n",
    "            else:\n",
    "                print(\"Could not redefine {}.{}!\".format(element_name, name))\n",
    "        if to_write:\n",
    "            file.write('\\n' + INDENT + 'def __init__(self, *args, **kwargs):\\n')\n",
    "            for line in to_write:\n",
    "                file.write(line)\n",
    "            file.write(INDENT * 2 + 'super({name}).__init__(*args, **kwargs)\\n'.format(**element))\n",
    "\n",
    "    return found_attributes"
   ]
  },
  {
   "cell_type": "code",
   "execution_count": 60,
   "metadata": {
    "collapsed": false
   },
   "outputs": [],
   "source": [
    "def write_operations(operations, file, element):\n",
    "    if not operations:\n",
    "        return False\n",
    "    \n",
    "    # TODO: this should probably be somewhere else\n",
    "    if all(subattr in operations for subattr in ('id', 'name', 'type')):\n",
    "        element['ownedOperation'] = DotDict({})\n",
    "        element['ownedOperation'][operations.name] = DotDict(operations)\n",
    "        operations = element.get('ownedOperation', {})\n",
    "    \n",
    "    for op in operations.values():\n",
    "        file.write('\\n')\n",
    "        \n",
    "        name = op.name\n",
    "        if name in element.get('ownedAttribute', {}):\n",
    "            name += '_operation'\n",
    "        comment = op.get('ownedComment', {}).get('body', '')\n",
    "        ocl = op.get('ownedRule', {}).get('specification', {}).get('body', '')\n",
    "            \n",
    "        file.write(INDENT + 'def {}(self):\\n'.format(camel_to_snake(name)))\n",
    "        if comment:\n",
    "            file.write(INDENT * 2 + '\"\"\"\\n')\n",
    "            for line in [indent(s, ' ' * 4) for s in wrap('{}\\n'.format(comment), 104)]:\n",
    "                file.write(INDENT + line + '\\n')\n",
    "            if not ocl:\n",
    "                file.write(INDENT * 2 + '\"\"\"\\n')\n",
    "        if ocl:\n",
    "            ocl = INDENT * 3 + ocl.replace('\\n\\n', '\\n').replace('\\n', '\\n' + INDENT * 3)\n",
    "            if comment:\n",
    "                file.write('\\n')\n",
    "            else:\n",
    "                file.write(INDENT * 2 + '\"\"\"\\n')\n",
    "            file.write(INDENT * 2 + '.. ocl::\\n')\n",
    "            file.write('{}\\n'.format(ocl))\n",
    "            file.write(INDENT * 2 + '\"\"\"\\n')\n",
    "        file.write(INDENT * 2 + 'pass\\n')\n",
    "        return True"
   ]
  },
  {
   "cell_type": "code",
   "execution_count": 51,
   "metadata": {
    "collapsed": true
   },
   "outputs": [],
   "source": [
    "def write_meta(element, file):\n",
    "    found_meta = False\n",
    "    # TODO: set this to false to test something, which seems to be working, so we may have to do away with abstract models\n",
    "    #       if so, we need to duplicate the methods in the subclasses manually...  ugh...\n",
    "    if False and element.__is_abstract__:\n",
    "        file.write('\\n' + INDENT + 'class Meta:\\n' + INDENT * 2 + 'abstract = True\\n')\n",
    "        found_meta = True\n",
    "    return found_meta"
   ]
  },
  {
   "cell_type": "markdown",
   "metadata": {},
   "source": [
    "# Write Django models to files"
   ]
  },
  {
   "cell_type": "code",
   "execution_count": 52,
   "metadata": {
    "collapsed": false
   },
   "outputs": [
    {
     "name": "stdout",
     "output_type": "stream",
     "text": [
      "Automatic pdb calling has been turned ON\n"
     ]
    }
   ],
   "source": [
    "%pdb on"
   ]
  },
  {
   "cell_type": "code",
   "execution_count": 63,
   "metadata": {
    "collapsed": false,
    "scrolled": false
   },
   "outputs": [
    {
     "name": "stdout",
     "output_type": "stream",
     "text": [
      "Could not redefine class.is_abstract!\n"
     ]
    }
   ],
   "source": [
    "loaded = []\n",
    "accessors = []\n",
    "\n",
    "for profile in ('uml', 'sysml'):\n",
    "    filename = path.join(BASE_DIR, \"{}.py\".format(profile))\n",
    "    if path.exists(filename):\n",
    "        remove(filename)\n",
    "    with open(filename, 'w') as file:\n",
    "        file.write('from django.db import models\\n')\n",
    "        for other in loaded:\n",
    "            file.write('from .{} import *\\n'.format(other))\n",
    "    loaded.append(profile)\n",
    "        \n",
    "for element_name in sorted_elements:\n",
    "    if element_name not in elements:\n",
    "        print('Could not find \"{}\"'.format(element_name))\n",
    "        continue\n",
    "    element = elements[element_name]\n",
    "    \n",
    "    filename = path.join(BASE_DIR, \"{}.py\".format(element.__profile__))\n",
    "    \n",
    "    with open(filename, 'a') as file:\n",
    "        file.write('\\n\\n')\n",
    "        \n",
    "        to_mapping = write_class(element, file)\n",
    "        if element.__docstring__:\n",
    "            file.write(INDENT + '\"\"\"\\n')\n",
    "            for line in [indent(s, ' ' * 4) for s in wrap('{__docstring__}\\n'.format(**element), 108)]:\n",
    "                file.write(line + '\\n')\n",
    "            file.write(INDENT + '\"\"\"\\n')\n",
    "        file.write('\\n')\n",
    "        \n",
    "        file.write(INDENT + \"__package__ = '{}'\\n\\n\".format('.'.join([element.__profile__, element.__package__])))\n",
    "        \n",
    "        first = True\n",
    "        for other in to_mapping:\n",
    "            primary = ', on_delete=models.CASCADE, primary_key=True' if first else ''\n",
    "            field_str = INDENT + \"{} = models.OneToOneField('{}'{})\\n\"\n",
    "            file.write(field_str.format(make_name_safe(other), other, primary))\n",
    "            first = False\n",
    "        write_attributes(element.get('ownedAttribute', {}), file, element_name)\n",
    "        write_literals(element.get('ownedLiteral', {}), file, element_name)\n",
    "        write_meta(element, file)\n",
    "        write_operations(element.get('ownedOperation', {}), file, element)"
   ]
  },
  {
   "cell_type": "markdown",
   "metadata": {},
   "source": [
    "# Sandbox"
   ]
  },
  {
   "cell_type": "code",
   "execution_count": 32,
   "metadata": {
    "collapsed": false
   },
   "outputs": [
    {
     "data": {
      "text/plain": [
       "{'__field__': 'ForeignKey',\n",
       " '__other__': 'ValueSpecification',\n",
       " 'aggregation': 'composite',\n",
       " 'association': 'A_specification_owningConstraint',\n",
       " 'help_text': 'A condition that must be true when evaluated in order for the Constraint to be satisfied.',\n",
       " 'id': 'Constraint-specification',\n",
       " 'name': 'specification',\n",
       " 'ownedComment': {'annotatedElement': 'Constraint-specification',\n",
       "  'body': 'A condition that must be true when evaluated in order for the Constraint to be satisfied.',\n",
       "  'id': 'Constraint-specification-_ownedComment.0',\n",
       "  'type': 'uml:Comment'},\n",
       " 'subsettedProperty': 'Element-ownedElement',\n",
       " 'type': 'ValueSpecification'}"
      ]
     },
     "execution_count": 32,
     "metadata": {},
     "output_type": "execute_result"
    }
   ],
   "source": [
    "elements.constraint.ownedAttribute.specification"
   ]
  },
  {
   "cell_type": "code",
   "execution_count": 31,
   "metadata": {
    "collapsed": false
   },
   "outputs": [
    {
     "data": {
      "text/plain": [
       "{'aggregation': 'composite',\n",
       " 'association': 'A_specification_intervalConstraint',\n",
       " 'id': 'IntervalConstraint-specification',\n",
       " 'name': 'specification',\n",
       " 'ownedComment': {'annotatedElement': 'IntervalConstraint-specification',\n",
       "  'body': 'The Interval that specifies the condition of the IntervalConstraint.',\n",
       "  'id': 'IntervalConstraint-specification-_ownedComment.0',\n",
       "  'type': 'uml:Comment'},\n",
       " 'redefinedProperty': 'Constraint-specification',\n",
       " 'type': 'Interval'}"
      ]
     },
     "execution_count": 31,
     "metadata": {},
     "output_type": "execute_result"
    }
   ],
   "source": [
    "elements.interval_constraint.ownedAttribute.specification"
   ]
  },
  {
   "cell_type": "code",
   "execution_count": 30,
   "metadata": {
    "collapsed": false
   },
   "outputs": [
    {
     "data": {
      "text/plain": [
       "{'aggregation': 'composite',\n",
       " 'association': 'A_specification_timeConstraint',\n",
       " 'help_text': 'TheTimeInterval constraining the duration.',\n",
       " 'id': 'TimeConstraint-specification',\n",
       " 'name': 'specification',\n",
       " 'ownedComment': {'annotatedElement': 'TimeConstraint-specification',\n",
       "  'body': 'TheTimeInterval constraining the duration.',\n",
       "  'id': 'TimeConstraint-specification-_ownedComment.0',\n",
       "  'type': 'uml:Comment'},\n",
       " 'redefinedProperty': 'IntervalConstraint-specification',\n",
       " 'type': 'TimeInterval'}"
      ]
     },
     "execution_count": 30,
     "metadata": {},
     "output_type": "execute_result"
    }
   ],
   "source": [
    "elements.time_constraint.ownedAttribute.specification"
   ]
  },
  {
   "cell_type": "code",
   "execution_count": 14,
   "metadata": {
    "collapsed": false
   },
   "outputs": [
    {
     "data": {
      "text/plain": [
       "{'__field__': 'ForeignKey',\n",
       " '__other__': 'VisibilityKind',\n",
       " 'help_text': 'Determines whether and how the NamedElement is visible outside its owning Namespace.',\n",
       " 'id': 'NamedElement-visibility',\n",
       " 'lowerValue': {'id': 'NamedElement-visibility-_lowerValue',\n",
       "  'type': 'uml:LiteralInteger'},\n",
       " 'name': 'visibility',\n",
       " 'ownedComment': {'annotatedElement': 'NamedElement-visibility',\n",
       "  'body': 'Determines whether and how the NamedElement is visible outside its owning Namespace.',\n",
       "  'id': 'NamedElement-visibility-_ownedComment.0',\n",
       "  'type': 'uml:Comment'},\n",
       " 'type': 'VisibilityKind'}"
      ]
     },
     "execution_count": 14,
     "metadata": {},
     "output_type": "execute_result"
    }
   ],
   "source": [
    "elements.named_element.ownedAttribute.visibility"
   ]
  },
  {
   "cell_type": "code",
   "execution_count": 15,
   "metadata": {
    "collapsed": false
   },
   "outputs": [],
   "source": [
    "vis = elements.packageable_element.ownedAttribute.get('visibility')"
   ]
  },
  {
   "cell_type": "code",
   "execution_count": 16,
   "metadata": {
    "collapsed": false
   },
   "outputs": [
    {
     "data": {
      "text/plain": [
       "{'id': 'PackageableElement-visibility-_defaultValue',\n",
       " 'instance': 'VisibilityKind-public',\n",
       " 'type': 'VisibilityKind'}"
      ]
     },
     "execution_count": 16,
     "metadata": {},
     "output_type": "execute_result"
    }
   ],
   "source": [
    "vis.defaultValue"
   ]
  },
  {
   "cell_type": "code",
   "execution_count": 17,
   "metadata": {
    "collapsed": false
   },
   "outputs": [
    {
     "data": {
      "text/plain": [
       "'VisibilityKind'"
      ]
     },
     "execution_count": 17,
     "metadata": {},
     "output_type": "execute_result"
    }
   ],
   "source": [
    "elements.visibility_kind.name"
   ]
  },
  {
   "cell_type": "code",
   "execution_count": 18,
   "metadata": {
    "collapsed": false
   },
   "outputs": [
    {
     "data": {
      "text/plain": [
       "{'ownedAttribute': 'attributes',\n",
       " 'ownedComment': 'comments',\n",
       " 'ownedEnd': 'ends',\n",
       " 'ownedLiteral': 'literals',\n",
       " 'ownedOperation': 'operations',\n",
       " 'ownedRule': 'rules'}"
      ]
     },
     "execution_count": 18,
     "metadata": {},
     "output_type": "execute_result"
    }
   ],
   "source": [
    "owned = set()\n",
    "for elem in elements.values():\n",
    "    owned = owned.union(set([key for key in elem.keys() if 'owned' in key.lower()]))\n",
    "{k: k.replace('owned', '').lower() + 's' for k in owned if k[:5] == 'owned'}"
   ]
  },
  {
   "cell_type": "code",
   "execution_count": 32,
   "metadata": {
    "collapsed": false
   },
   "outputs": [
    {
     "data": {
      "text/plain": [
       "{'DirectedRelationshipPropertyPath.source_context',\n",
       " 'DirectedRelationshipPropertyPath.source_property_path',\n",
       " 'DirectedRelationshipPropertyPath.target_context',\n",
       " 'DirectedRelationshipPropertyPath.target_property_path',\n",
       " 'ElementGroup.member',\n",
       " 'ElementGroup.ordered_memeber',\n",
       " 'NamedElement.namespace',\n",
       " 'Namespace.named_element',\n",
       " 'ParticipantProperty.base_property',\n",
       " 'ParticipantProperty.end',\n",
       " 'Requirement.derived',\n",
       " 'Requirement.derived_from',\n",
       " 'Requirement.master',\n",
       " 'Requirement.refined_by',\n",
       " 'Requirement.satisfied_by',\n",
       " 'Requirement.traced_to',\n",
       " 'Requirement.verified_by',\n",
       " 'ValueType.quantity_kind',\n",
       " 'ValueType.unit'}"
      ]
     },
     "execution_count": 32,
     "metadata": {},
     "output_type": "execute_result"
    }
   ],
   "source": [
    "\n",
    "err = \"\"\"cerebral.DirectedRelationshipPropertyPath.source_context: (fields.E304) Reverse accessor for 'Di\n",
    "rectedRelationshipPropertyPath.source_context' clashes with reverse accessor for 'DirectedRelati\n",
    "onshipPropertyPath.target_context'.\n",
    "        HINT: Add or change a related_name argument to the definition for 'DirectedRelationshipP\n",
    "ropertyPath.source_context' or 'DirectedRelationshipPropertyPath.target_context'.\n",
    "cerebral.DirectedRelationshipPropertyPath.source_property_path: (fields.E304) Reverse accessor f\n",
    "or 'DirectedRelationshipPropertyPath.source_property_path' clashes with reverse accessor for 'Di\n",
    "rectedRelationshipPropertyPath.target_property_path'.\n",
    "        HINT: Add or change a related_name argument to the definition for 'DirectedRelationshipP\n",
    "ropertyPath.source_property_path' or 'DirectedRelationshipPropertyPath.target_property_path'.\n",
    "cerebral.DirectedRelationshipPropertyPath.target_context: (fields.E304) Reverse accessor for 'Di\n",
    "rectedRelationshipPropertyPath.target_context' clashes with reverse accessor for 'DirectedRelati\n",
    "onshipPropertyPath.source_context'.\n",
    "        HINT: Add or change a related_name argument to the definition for 'DirectedRelationshipP\n",
    "ropertyPath.target_context' or 'DirectedRelationshipPropertyPath.source_context'.\n",
    "cerebral.DirectedRelationshipPropertyPath.target_property_path: (fields.E304) Reverse accessor f\n",
    "or 'DirectedRelationshipPropertyPath.target_property_path' clashes with reverse accessor for 'Di\n",
    "rectedRelationshipPropertyPath.source_property_path'.\n",
    "        HINT: Add or change a related_name argument to the definition for 'DirectedRelationshipP\n",
    "ropertyPath.target_property_path' or 'DirectedRelationshipPropertyPath.source_property_path'.\n",
    "cerebral.ElementGroup.member: (fields.E304) Reverse accessor for 'ElementGroup.member' clashes w\n",
    "ith reverse accessor for 'ElementGroup.ordered_memeber'.\n",
    "        HINT: Add or change a related_name argument to the definition for 'ElementGroup.member'\n",
    "or 'ElementGroup.ordered_memeber'.\n",
    "cerebral.ElementGroup.ordered_memeber: (fields.E304) Reverse accessor for 'ElementGroup.ordered_\n",
    "memeber' clashes with reverse accessor for 'ElementGroup.member'.\n",
    "        HINT: Add or change a related_name argument to the definition for 'ElementGroup.ordered_\n",
    "memeber' or 'ElementGroup.member'.\n",
    "cerebral.Namespace.named_element: (fields.E302) Reverse accessor for 'Namespace.named_element' c\n",
    "lashes with field name 'NamedElement.namespace'.\n",
    "        HINT: Rename field 'NamedElement.namespace', or add/change a related_name argument to th\n",
    "e definition for field 'Namespace.named_element'.\n",
    "cerebral.Namespace.named_element: (fields.E303) Reverse query name for 'Namespace.named_element'\n",
    " clashes with field name 'NamedElement.namespace'.\n",
    "        HINT: Rename field 'NamedElement.namespace', or add/change a related_name argument to th\n",
    "e definition for field 'Namespace.named_element'.\n",
    "cerebral.ParticipantProperty.base_property: (fields.E304) Reverse accessor for 'ParticipantPrope\n",
    "rty.base_property' clashes with reverse accessor for 'ParticipantProperty.end'.\n",
    "        HINT: Add or change a related_name argument to the definition for 'ParticipantProperty.b\n",
    "ase_property' or 'ParticipantProperty.end'.\n",
    "cerebral.ParticipantProperty.end: (fields.E304) Reverse accessor for 'ParticipantProperty.end' c\n",
    "lashes with reverse accessor for 'ParticipantProperty.base_property'.\n",
    "        HINT: Add or change a related_name argument to the definition for 'ParticipantProperty.e\n",
    "nd' or 'ParticipantProperty.base_property'.\n",
    "cerebral.Requirement.derived: (fields.E304) Reverse accessor for 'Requirement.derived' clashes w\n",
    "ith reverse accessor for 'Requirement.derived_from'.\n",
    "        HINT: Add or change a related_name argument to the definition for 'Requirement.derived'\n",
    "or 'Requirement.derived_from'.\n",
    "cerebral.Requirement.derived: (fields.E304) Reverse accessor for 'Requirement.derived' clashes w\n",
    "ith reverse accessor for 'Requirement.master'.\n",
    "        HINT: Add or change a related_name argument to the definition for 'Requirement.derived'\n",
    "or 'Requirement.master'.\n",
    "cerebral.Requirement.derived_from: (fields.E304) Reverse accessor for 'Requirement.derived_from'\n",
    " clashes with reverse accessor for 'Requirement.derived'.\n",
    "        HINT: Add or change a related_name argument to the definition for 'Requirement.derived_f\n",
    "rom' or 'Requirement.derived'.\n",
    "cerebral.Requirement.derived_from: (fields.E304) Reverse accessor for 'Requirement.derived_from'\n",
    " clashes with reverse accessor for 'Requirement.master'.\n",
    "        HINT: Add or change a related_name argument to the definition for 'Requirement.derived_f\n",
    "rom' or 'Requirement.master'.\n",
    "cerebral.Requirement.master: (fields.E304) Reverse accessor for 'Requirement.master' clashes wit\n",
    "h reverse accessor for 'Requirement.derived'.\n",
    "        HINT: Add or change a related_name argument to the definition for 'Requirement.master' o\n",
    "r 'Requirement.derived'.\n",
    "cerebral.Requirement.master: (fields.E304) Reverse accessor for 'Requirement.master' clashes wit\n",
    "h reverse accessor for 'Requirement.derived_from'.\n",
    "        HINT: Add or change a related_name argument to the definition for 'Requirement.master' o\n",
    "r 'Requirement.derived_from'.\n",
    "cerebral.Requirement.refined_by: (fields.E304) Reverse accessor for 'Requirement.refined_by' cla\n",
    "shes with reverse accessor for 'Requirement.satisfied_by'.\n",
    "        HINT: Add or change a related_name argument to the definition for 'Requirement.refined_b\n",
    "y' or 'Requirement.satisfied_by'.\n",
    "cerebral.Requirement.refined_by: (fields.E304) Reverse accessor for 'Requirement.refined_by' cla\n",
    "shes with reverse accessor for 'Requirement.traced_to'.\n",
    "        HINT: Add or change a related_name argument to the definition for 'Requirement.refined_b\n",
    "y' or 'Requirement.traced_to'.\n",
    "cerebral.Requirement.refined_by: (fields.E304) Reverse accessor for 'Requirement.refined_by' cla\n",
    "shes with reverse accessor for 'Requirement.verified_by'.\n",
    "        HINT: Add or change a related_name argument to the definition for 'Requirement.refined_b\n",
    "y' or 'Requirement.verified_by'.\n",
    "cerebral.Requirement.satisfied_by: (fields.E304) Reverse accessor for 'Requirement.satisfied_by'\n",
    " clashes with reverse accessor for 'Requirement.refined_by'.\n",
    "        HINT: Add or change a related_name argument to the definition for 'Requirement.satisfied\n",
    "_by' or 'Requirement.refined_by'.\n",
    "cerebral.Requirement.satisfied_by: (fields.E304) Reverse accessor for 'Requirement.satisfied_by'\n",
    " clashes with reverse accessor for 'Requirement.traced_to'.\n",
    "        HINT: Add or change a related_name argument to the definition for 'Requirement.satisfied\n",
    "_by' or 'Requirement.traced_to'.\n",
    "cerebral.Requirement.satisfied_by: (fields.E304) Reverse accessor for 'Requirement.satisfied_by'\n",
    " clashes with reverse accessor for 'Requirement.verified_by'.\n",
    "        HINT: Add or change a related_name argument to the definition for 'Requirement.satisfied\n",
    "_by' or 'Requirement.verified_by'.\n",
    "cerebral.Requirement.traced_to: (fields.E304) Reverse accessor for 'Requirement.traced_to' clash\n",
    "es with reverse accessor for 'Requirement.refined_by'.\n",
    "        HINT: Add or change a related_name argument to the definition for 'Requirement.traced_to\n",
    "' or 'Requirement.refined_by'.\n",
    "cerebral.Requirement.traced_to: (fields.E304) Reverse accessor for 'Requirement.traced_to' clash\n",
    "es with reverse accessor for 'Requirement.satisfied_by'.\n",
    "        HINT: Add or change a related_name argument to the definition for 'Requirement.traced_to\n",
    "' or 'Requirement.satisfied_by'.\n",
    "cerebral.Requirement.traced_to: (fields.E304) Reverse accessor for 'Requirement.traced_to' clash\n",
    "es with reverse accessor for 'Requirement.verified_by'.\n",
    "        HINT: Add or change a related_name argument to the definition for 'Requirement.traced_to\n",
    "' or 'Requirement.verified_by'.\n",
    "cerebral.Requirement.verified_by: (fields.E304) Reverse accessor for 'Requirement.verified_by' c\n",
    "lashes with reverse accessor for 'Requirement.refined_by'.\n",
    "        HINT: Add or change a related_name argument to the definition for 'Requirement.verified_\n",
    "by' or 'Requirement.refined_by'.\n",
    "cerebral.Requirement.verified_by: (fields.E304) Reverse accessor for 'Requirement.verified_by' c\n",
    "lashes with reverse accessor for 'Requirement.satisfied_by'.\n",
    "        HINT: Add or change a related_name argument to the definition for 'Requirement.verified_\n",
    "by' or 'Requirement.satisfied_by'.\n",
    "cerebral.Requirement.verified_by: (fields.E304) Reverse accessor for 'Requirement.verified_by' c\n",
    "lashes with reverse accessor for 'Requirement.traced_to'.\n",
    "        HINT: Add or change a related_name argument to the definition for 'Requirement.verified_\n",
    "by' or 'Requirement.traced_to'.\n",
    "cerebral.ValueType.quantity_kind: (fields.E304) Reverse accessor for 'ValueType.quantity_kind' c\n",
    "lashes with reverse accessor for 'ValueType.unit'.\n",
    "        HINT: Add or change a related_name argument to the definition for 'ValueType.quantity_ki\n",
    "nd' or 'ValueType.unit'.\n",
    "cerebral.ValueType.unit: (fields.E304) Reverse accessor for 'ValueType.unit' clashes with revers\n",
    "e accessor for 'ValueType.quantity_kind'.\n",
    "        HINT: Add or change a related_name argument to the definition for 'ValueType.unit' or 'V\n",
    "alueType.quantity_kind'.\n",
    "\"\"\"\n",
    "\n",
    "err_regex = re_compile(r\"'[a-zA-Z_]*.[a-zA-Z_]*'\")\n",
    "set(err_acc[1:-1] for err_acc in err_regex.findall(err))\n"
   ]
  },
  {
   "cell_type": "code",
   "execution_count": 19,
   "metadata": {
    "collapsed": false
   },
   "outputs": [
    {
     "data": {
      "text/plain": [
       "{'id': 'Element-allOwnedElements-result-_lowerValue',\n",
       " 'type': 'uml:LiteralInteger'}"
      ]
     },
     "execution_count": 19,
     "metadata": {},
     "output_type": "execute_result"
    }
   ],
   "source": [
    "elements.element.ownedOperation.allOwnedElements.ownedParameter.lowerValue"
   ]
  },
  {
   "cell_type": "code",
   "execution_count": 20,
   "metadata": {
    "collapsed": false
   },
   "outputs": [
    {
     "data": {
      "text/plain": [
       "'A NamedElement with package visibility is visible to all Elements within the nearest enclosing Package (given that other owning Elements have proper visibility). Outside the nearest enclosing Package, a NamedElement marked as having package visibility is not visible.  Only NamedElements that are not owned by Packages can be marked as having package visibility.'"
      ]
     },
     "execution_count": 20,
     "metadata": {},
     "output_type": "execute_result"
    }
   ],
   "source": [
    "elements.visibility_kind.ownedLiteral.package.ownedComment.body"
   ]
  },
  {
   "cell_type": "code",
   "execution_count": 21,
   "metadata": {
    "collapsed": false
   },
   "outputs": [
    {
     "data": {
      "text/plain": [
       "{'__docstring__',\n",
       " '__ignore__',\n",
       " '__is_abstract__',\n",
       " '__modelclass__',\n",
       " '__package__',\n",
       " '__profile__',\n",
       " 'generalization',\n",
       " 'id',\n",
       " 'isAbstract',\n",
       " 'isDerived',\n",
       " 'memberEnd',\n",
       " 'name',\n",
       " 'navigableOwnedEnd',\n",
       " 'ownedAttribute',\n",
       " 'ownedComment',\n",
       " 'ownedEnd',\n",
       " 'ownedLiteral',\n",
       " 'ownedOperation',\n",
       " 'ownedRule',\n",
       " 'packagedElement',\n",
       " 'type',\n",
       " 'uuid'}"
      ]
     },
     "execution_count": 21,
     "metadata": {},
     "output_type": "execute_result"
    }
   ],
   "source": [
    "keys = set()\n",
    "for elem in elements.values():\n",
    "    keys = keys.union(set(elem.keys()))\n",
    "keys"
   ]
  },
  {
   "cell_type": "markdown",
   "metadata": {},
   "source": [
    "# TODOs"
   ]
  },
  {
   "cell_type": "markdown",
   "metadata": {},
   "source": [
    "### Parse rules\n",
    "* This is a maybe\n",
    "* All these elements have rules:"
   ]
  },
  {
   "cell_type": "code",
   "execution_count": null,
   "metadata": {
    "collapsed": false,
    "scrolled": true
   },
   "outputs": [],
   "source": [
    "sorted([k for k, v in elements.items() if 'ownedRule' in v])"
   ]
  },
  {
   "cell_type": "markdown",
   "metadata": {},
   "source": [
    "### Remove the reverse accessors which Django creates automatically\n",
    "* e.g., `Namespace.named_element: (fields.E302) Reverse accessor for 'Namespace.named_element' clashes with field name 'NamedElement.namespace'.`"
   ]
  },
  {
   "cell_type": "markdown",
   "metadata": {},
   "source": [
    "### Parse multiplicity relationships\n",
    "* Look at how OSLC's SysML profile figure out how to determine if a relationship is `zero-to-one`, `one-to-many`, or `zero-to-many`"
   ]
  },
  {
   "cell_type": "markdown",
   "metadata": {
    "collapsed": true
   },
   "source": [
    "### Separate loading UML from the profiles\n",
    "* right now things just \"get loaded\", make it so UML is loaded as a package, or a profile loads its imported packages"
   ]
  },
  {
   "cell_type": "markdown",
   "metadata": {},
   "source": [
    "### Fix issue with fields referencing abstract models\n",
    "* May have to do away with declaring things as `abstract` and make everything inherit from `models.Model` and use `OneToOneField`"
   ]
  }
 ],
 "metadata": {
  "hide_input": false,
  "kernelspec": {
   "display_name": "Python 3",
   "language": "python",
   "name": "python3"
  },
  "language_info": {
   "codemirror_mode": {
    "name": "ipython",
    "version": 3
   },
   "file_extension": ".py",
   "mimetype": "text/x-python",
   "name": "python",
   "nbconvert_exporter": "python",
   "pygments_lexer": "ipython3",
   "version": "3.5.1"
  },
  "widgets": {
   "state": {},
   "version": "1.1.2"
  }
 },
 "nbformat": 4,
 "nbformat_minor": 0
}
